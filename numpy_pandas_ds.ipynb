{
 "cells": [
  {
   "attachments": {},
   "cell_type": "markdown",
   "metadata": {},
   "source": [
    "Topics to be covered in this Notebook:\n",
    "\n",
    "1. Numpy\n",
    "2. Pandas\n",
    "3. Exploratory Data Analysis\n",
    "\n",
    "- Author : Aritra Sen (www.aritrasen.com)\n",
    "- LinkedIn : https://www.linkedin.com/in/aritrasen/"
   ]
  },
  {
   "attachments": {},
   "cell_type": "markdown",
   "metadata": {},
   "source": [
    "#### Numpy:\n",
    "\n",
    "Numpy is the short form of ‘Numerical Python‘. This is one library you should learn if you are interested in Data Science with Python. The core of Numpy is it’s N-Dimension Array which is similar to List but has many advance over List like –\n",
    "\n",
    "- More compact.\n",
    "- Faster access in Reading and writing items.\n",
    "- Ease of doing element wise operation in Numpy.\n",
    "- Numpy has inbuilt functions to do mathematical operations on arrays.\n",
    "\n",
    "As we are using Jupyter notebook from Anaconda , Numpy library is already installed in Anaconda. But we need to import the Numpy library. Now lets look into the Numpy array , it’s advantages over list and different available functionalities of Numpy."
   ]
  },
  {
   "cell_type": "code",
   "execution_count": 1,
   "metadata": {},
   "outputs": [],
   "source": [
    "#Import the Numpy Library\n",
    "import numpy as np "
   ]
  },
  {
   "cell_type": "code",
   "execution_count": 2,
   "metadata": {},
   "outputs": [
    {
     "name": "stdout",
     "output_type": "stream",
     "text": [
      "[1 2 3]\n"
     ]
    }
   ],
   "source": [
    "a = np.array([1,2,3]) #Creating an 1-D Numpy Array\n",
    "print(a)"
   ]
  },
  {
   "cell_type": "code",
   "execution_count": 3,
   "metadata": {},
   "outputs": [
    {
     "name": "stdout",
     "output_type": "stream",
     "text": [
      "[[1 2 3]\n",
      " [4 5 6]]\n",
      "Shape:(2, 3)\n",
      "int64\n"
     ]
    }
   ],
   "source": [
    "#Arguement list to creare Numpy array \n",
    "# np.array(object, dtype = None, copy = True, order = None, subok = False, ndmin = 0)\n",
    "\n",
    "#Creating an 2-D Array \n",
    "\n",
    "b = np.array([[1,2,3],[4,5,6]])\n",
    "print(b)\n",
    "\n",
    "# Print out the shape of array\n",
    "print('Shape:' + str(b.shape))\n",
    "\n",
    "# Shape is a tuple , first is no of rows and secords element is no of columns\n",
    "\n",
    "# Print out the data type of array\n",
    "print(b.dtype)"
   ]
  },
  {
   "attachments": {},
   "cell_type": "markdown",
   "metadata": {},
   "source": [
    "### Comparison between Numpy and List"
   ]
  },
  {
   "cell_type": "code",
   "execution_count": 4,
   "metadata": {},
   "outputs": [
    {
     "name": "stdout",
     "output_type": "stream",
     "text": [
      "[2, 4, 6]\n"
     ]
    },
    {
     "data": {
      "text/plain": [
       "[1, 2, 3, 1, 2, 3]"
      ]
     },
     "execution_count": 4,
     "metadata": {},
     "output_type": "execute_result"
    }
   ],
   "source": [
    "my_list = [1,2,3]\n",
    "\n",
    "# To multipl each element of the list with we will need to write loop\n",
    "emp_list = []\n",
    "for element in my_list:\n",
    "    emp_list.append(element*2)\n",
    "print(emp_list)  \n",
    "\n",
    "#We can't do straight way elementwise multiplication in list \n",
    "my_list*2 #This is do concatenation"
   ]
  },
  {
   "cell_type": "code",
   "execution_count": 5,
   "metadata": {},
   "outputs": [
    {
     "name": "stdout",
     "output_type": "stream",
     "text": [
      "[2 4 6]\n"
     ]
    }
   ],
   "source": [
    "# However in Numpy Array we can easily do elementwise operation\n",
    "# Avoiding the slow for loop\n",
    "\n",
    "a = np.array([1,2,3])\n",
    "print(a*2) #Much faster way to do"
   ]
  },
  {
   "attachments": {},
   "cell_type": "markdown",
   "metadata": {},
   "source": [
    "### Mathematical Operations using numpy"
   ]
  },
  {
   "cell_type": "code",
   "execution_count": 7,
   "metadata": {},
   "outputs": [
    {
     "name": "stdout",
     "output_type": "stream",
     "text": [
      "Add : [5 7 9]\n",
      "Substract:  [-3 -3 -3]\n",
      "Multiply:  [ 4 10 18]\n",
      "Divide:  [0.25 0.4  0.5 ]\n",
      "Square root:  [1.         1.41421356 1.73205081]\n"
     ]
    }
   ],
   "source": [
    "a = np.array([1,2,3])\n",
    "b = np.array([4,5,6])\n",
    "print('Add :', a+b) #same as np.add(a,b)\n",
    "print('Substract: ',a-b) #same as np.substract(a,b)\n",
    "print ('Multiply: ',np.multiply(a,b))  \n",
    "print ('Divide: ',np.divide(a,b)) \n",
    "print('Square root: ', np.sqrt(a)) #Elementwise square root"
   ]
  },
  {
   "cell_type": "code",
   "execution_count": 8,
   "metadata": {},
   "outputs": [
    {
     "name": "stdout",
     "output_type": "stream",
     "text": [
      "[[19 22]\n",
      " [43 50]]\n"
     ]
    }
   ],
   "source": [
    "x = np.array([[1,2],[3,4]])\n",
    "y = np.array([[5,6],[7,8]])\n",
    "print(np.dot(x,y)) #Matrix Product"
   ]
  },
  {
   "cell_type": "code",
   "execution_count": 9,
   "metadata": {},
   "outputs": [
    {
     "name": "stdout",
     "output_type": "stream",
     "text": [
      "[[1 3]\n",
      " [2 4]]\n"
     ]
    }
   ],
   "source": [
    "x = np.array([[1,2],[3,4]])\n",
    "print(np.transpose(x)) # Matrix Transpose"
   ]
  },
  {
   "attachments": {},
   "cell_type": "markdown",
   "metadata": {},
   "source": [
    "### Functions to create different types of arrays"
   ]
  },
  {
   "cell_type": "code",
   "execution_count": 10,
   "metadata": {},
   "outputs": [
    {
     "name": "stdout",
     "output_type": "stream",
     "text": [
      "[[0. 0.]\n",
      " [0. 0.]]\n"
     ]
    }
   ],
   "source": [
    "a = np.zeros((2,2)) # 2*2 array of zeros , assign the dimensions as you need\n",
    "print(a)"
   ]
  },
  {
   "cell_type": "code",
   "execution_count": 11,
   "metadata": {},
   "outputs": [
    {
     "name": "stdout",
     "output_type": "stream",
     "text": [
      "[[1. 1.]]\n"
     ]
    }
   ],
   "source": [
    "b = np.ones((1,2)) # array of all ones\n",
    "print(b)"
   ]
  },
  {
   "cell_type": "code",
   "execution_count": 12,
   "metadata": {},
   "outputs": [
    {
     "name": "stdout",
     "output_type": "stream",
     "text": [
      "[[1. 0.]\n",
      " [0. 1.]]\n"
     ]
    }
   ],
   "source": [
    "c = np.eye(2) # Creates an 2*2 Identity matrix\n",
    "print(c)"
   ]
  },
  {
   "cell_type": "code",
   "execution_count": 13,
   "metadata": {},
   "outputs": [
    {
     "name": "stdout",
     "output_type": "stream",
     "text": [
      "[[0.5275685  0.30631075]\n",
      " [0.73400404 0.57945371]]\n"
     ]
    }
   ],
   "source": [
    "d = np.random.random((2,2)) # Creates an array random numbers\n",
    "print(d)"
   ]
  },
  {
   "cell_type": "code",
   "execution_count": null,
   "metadata": {},
   "outputs": [],
   "source": []
  },
  {
   "cell_type": "code",
   "execution_count": null,
   "metadata": {},
   "outputs": [],
   "source": []
  },
  {
   "attachments": {},
   "cell_type": "markdown",
   "metadata": {},
   "source": []
  }
 ],
 "metadata": {
  "kernelspec": {
   "display_name": "Python 3",
   "language": "python",
   "name": "python3"
  },
  "language_info": {
   "codemirror_mode": {
    "name": "ipython",
    "version": 3
   },
   "file_extension": ".py",
   "mimetype": "text/x-python",
   "name": "python",
   "nbconvert_exporter": "python",
   "pygments_lexer": "ipython3",
   "version": "3.10.4"
  },
  "orig_nbformat": 4,
  "vscode": {
   "interpreter": {
    "hash": "3ad933181bd8a04b432d3370b9dc3b0662ad032c4dfaa4e4f1596c548f763858"
   }
  }
 },
 "nbformat": 4,
 "nbformat_minor": 2
}
