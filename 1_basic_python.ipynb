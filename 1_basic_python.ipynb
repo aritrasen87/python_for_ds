{
 "cells": [
  {
   "attachments": {},
   "cell_type": "markdown",
   "metadata": {},
   "source": [
    "Topics to be covered in this Notebook:\n",
    "\n",
    "1. Mathematical Operations\n",
    "2. Variables\n",
    "3. Functions\n",
    "4. Object Oriented Programming in Python\n",
    "\n",
    "- Author : Aritra Sen (www.aritrasen.com)\n",
    "- LinkedIn : https://www.linkedin.com/in/aritrasen/"
   ]
  },
  {
   "attachments": {},
   "cell_type": "markdown",
   "metadata": {},
   "source": [
    "### Mathematical Operations in Python"
   ]
  },
  {
   "cell_type": "code",
   "execution_count": 1,
   "metadata": {},
   "outputs": [
    {
     "name": "stdout",
     "output_type": "stream",
     "text": [
      "9\n"
     ]
    }
   ],
   "source": [
    "print (3+6) #Sum"
   ]
  },
  {
   "cell_type": "code",
   "execution_count": 2,
   "metadata": {},
   "outputs": [
    {
     "name": "stdout",
     "output_type": "stream",
     "text": [
      "-3\n"
     ]
    }
   ],
   "source": [
    "print (3-6) #Minus"
   ]
  },
  {
   "cell_type": "code",
   "execution_count": 3,
   "metadata": {},
   "outputs": [
    {
     "name": "stdout",
     "output_type": "stream",
     "text": [
      "18\n"
     ]
    }
   ],
   "source": [
    "print(3*6) #Multiplication"
   ]
  },
  {
   "cell_type": "code",
   "execution_count": 4,
   "metadata": {},
   "outputs": [
    {
     "name": "stdout",
     "output_type": "stream",
     "text": [
      "2.0\n"
     ]
    }
   ],
   "source": [
    "print(6/3) #Division"
   ]
  },
  {
   "cell_type": "code",
   "execution_count": 5,
   "metadata": {},
   "outputs": [
    {
     "name": "stdout",
     "output_type": "stream",
     "text": [
      "2\n"
     ]
    }
   ],
   "source": [
    "print(29%3) #Modular division"
   ]
  },
  {
   "cell_type": "code",
   "execution_count": 6,
   "metadata": {},
   "outputs": [
    {
     "name": "stdout",
     "output_type": "stream",
     "text": [
      "4\n"
     ]
    }
   ],
   "source": [
    "print(2**2) #power"
   ]
  },
  {
   "cell_type": "code",
   "execution_count": 7,
   "metadata": {},
   "outputs": [
    {
     "name": "stdout",
     "output_type": "stream",
     "text": [
      "5\n"
     ]
    }
   ],
   "source": [
    "print(16//3) # Floor division and result is quotient and results after decimal is removed"
   ]
  },
  {
   "attachments": {},
   "cell_type": "markdown",
   "metadata": {},
   "source": [
    "### Variables\n",
    "\n",
    "Python is not strictly typed language , so you don’t need declare the type of the variable and then use.You can straightway assign the values of variables and python will understand the type of the variables. Below are types of variables –\n",
    "\n",
    "- Numbers\n",
    "- String\n",
    "- List\n",
    "- Tuple\n",
    "- Dictionary"
   ]
  },
  {
   "attachments": {},
   "cell_type": "markdown",
   "metadata": {},
   "source": [
    "#####  Number"
   ]
  },
  {
   "cell_type": "code",
   "execution_count": 8,
   "metadata": {},
   "outputs": [
    {
     "name": "stdout",
     "output_type": "stream",
     "text": [
      "Value of a : 100\n",
      "Value of b : 100.1\n",
      "Value of c and d : 500 500\n"
     ]
    }
   ],
   "source": [
    "a = 100  #Integer Variable \n",
    "b = 100.10 #Floats\n",
    "print('Value of a :', a)\n",
    "print ('Value of b :', b)\n",
    "c = d = 500 # Multiple assignments in a single line\n",
    "print('Value of c and d :',c,d)"
   ]
  },
  {
   "attachments": {},
   "cell_type": "markdown",
   "metadata": {},
   "source": [
    "##### String\n",
    "-  ' ', '' \" , \"\"\" \"\"\" also can be used in string assignment , # \"\"\" \"\"\" is used for multiple lines assignment/escape for special charecters"
   ]
  },
  {
   "cell_type": "code",
   "execution_count": 9,
   "metadata": {},
   "outputs": [
    {
     "name": "stdout",
     "output_type": "stream",
     "text": [
      "First element : D\n",
      "Last element :  n\n",
      "2nd element to 3rd element: enk\n",
      "From first element to the last element:  enken\n",
      "String concetanation: Denken is a blog\n",
      "Print twice:  DenkenDenken\n"
     ]
    }
   ],
   "source": [
    "e = \"Denken\" \n",
    "print (\"First element :\" , e[0]) #  To access the first element , Python Indexing starts at 0 \n",
    "print(\"Last element : \", e[-1]) # To access the last element in the String'\n",
    "print('2nd element to 3rd element:',e[1:4]) # To access from 2nd element to 3rd element , 4th element is excluded\n",
    "print(\"From first element to the last element: \",e[1:]) #To access from 1st element to end\n",
    "print(\"String concetanation:\",e + \" is a blog\") # Concatenation\n",
    "print(\"Print twice: \" , e * 2) # Prints two times"
   ]
  },
  {
   "attachments": {},
   "cell_type": "markdown",
   "metadata": {},
   "source": [
    "##### List \n",
    "- Members of the List , need not be of the same type. Can be written as comma separated within square brackets.\n",
    "- Lists are mutable , that means you can add or delete items from Lists."
   ]
  },
  {
   "cell_type": "code",
   "execution_count": 10,
   "metadata": {},
   "outputs": [
    {
     "name": "stdout",
     "output_type": "stream",
     "text": [
      "<class 'list'>\n",
      "3\n"
     ]
    }
   ],
   "source": [
    "my_list = [] # empty list\n",
    "\n",
    "my_list = [1 , 2 , 3] # List of Integeres\n",
    "\n",
    "print(type(my_list)) # To check the datatype of any variable\n",
    "\n",
    "print(len(my_list)) # To Check the length of the list "
   ]
  },
  {
   "cell_type": "code",
   "execution_count": 11,
   "metadata": {},
   "outputs": [
    {
     "name": "stdout",
     "output_type": "stream",
     "text": [
      "['Hello', 'Denken', 3]\n"
     ]
    }
   ],
   "source": [
    "my_list = ['Hello' , 'Denken' , 3] # List of Different data types\n",
    "\n",
    "print(my_list)"
   ]
  },
  {
   "cell_type": "code",
   "execution_count": 12,
   "metadata": {},
   "outputs": [
    {
     "name": "stdout",
     "output_type": "stream",
     "text": [
      "[['Hello', 'Denken', 3], [1, 2, 3]]\n",
      "Length of the list:  2\n",
      "Access the First List of Lists :  ['Hello', 'Denken', 3]\n",
      "Access the 2nd List of Lists : [1, 2, 3]\n",
      "Access the First element of the first List: Hello\n"
     ]
    }
   ],
   "source": [
    "my_list = [['Hello' , 'Denken' , 3] , [1 , 2, 3]] # List of Lists\n",
    "\n",
    "print(my_list) #Prints List of Lists\n",
    "\n",
    "print(\"Length of the list: \", len(my_list)) # Len function returns the length , Returns 2 \n",
    "\n",
    "print(\"Access the First List of Lists : \",my_list[0]) \n",
    "\n",
    "print(\"Access the 2nd List of Lists :\",my_list[1])  \n",
    "\n",
    "print(\"Access the First element of the first List:\",my_list[0][0])"
   ]
  },
  {
   "cell_type": "code",
   "execution_count": 13,
   "metadata": {},
   "outputs": [
    {
     "name": "stdout",
     "output_type": "stream",
     "text": [
      "Original List : ['a', 'b', 'c']\n",
      "After adding an element: ['a', 'b', 'c', 'd']\n",
      "After removing an element: ['a', 'b', 'c']\n",
      "After altering the first element in the list : ['aa', 'b', 'c']\n"
     ]
    }
   ],
   "source": [
    "# lists are mutable\n",
    "\n",
    "a = ['a','b','c']\n",
    "\n",
    "print(\"Original List :\", a)\n",
    "\n",
    "a.append('d') # Adding element to the list\n",
    "print(\"After adding an element:\",a)\n",
    "\n",
    "a.remove('d') # Removes an element from the list\n",
    "print(\"After removing an element:\",a)\n",
    "\n",
    "a[0] = 'aa' # Altering the first element of the list\n",
    "print(\"After altering the first element in the list :\",a)"
   ]
  },
  {
   "attachments": {},
   "cell_type": "markdown",
   "metadata": {},
   "source": [
    "##### Tuples\n",
    "- Can consume different data types , \n",
    "- Created with parentheses () \n",
    "- Unlinke Lists , Tuples are immutable . You can not modify Tuples once created"
   ]
  },
  {
   "cell_type": "code",
   "execution_count": 14,
   "metadata": {},
   "outputs": [
    {
     "name": "stdout",
     "output_type": "stream",
     "text": [
      "Tuple:  ('a', 'b', 1, 3)\n",
      "Type of the variable:  <class 'tuple'>\n",
      "a\n"
     ]
    }
   ],
   "source": [
    "tup = ('a','b',1,3) #Accepts different data types\n",
    "print(\"Tuple: \",tup)\n",
    "print('Type of the variable: ', type(tup))\n",
    "print(tup[0]) #List like same slicing and dicing you can perform"
   ]
  },
  {
   "cell_type": "code",
   "execution_count": 15,
   "metadata": {},
   "outputs": [
    {
     "ename": "TypeError",
     "evalue": "'tuple' object does not support item assignment",
     "output_type": "error",
     "traceback": [
      "\u001b[0;31m---------------------------------------------------------------------------\u001b[0m",
      "\u001b[0;31mTypeError\u001b[0m                                 Traceback (most recent call last)",
      "Cell \u001b[0;32mIn[15], line 1\u001b[0m\n\u001b[0;32m----> 1\u001b[0m tup[\u001b[39m0\u001b[39;49m] \u001b[39m=\u001b[39m \u001b[39m'\u001b[39m\u001b[39maa\u001b[39m\u001b[39m'\u001b[39m \u001b[39m# Tuples are immutable , will throw error\u001b[39;00m\n",
      "\u001b[0;31mTypeError\u001b[0m: 'tuple' object does not support item assignment"
     ]
    }
   ],
   "source": [
    "tup[0] = 'aa' # Tuples are immutable , will throw error"
   ]
  },
  {
   "attachments": {},
   "cell_type": "markdown",
   "metadata": {},
   "source": [
    "##### Dictionary \n",
    "- Dictionary can be created with { } , it has key value pairs.\n",
    "- Keys has to be unique. It's like you Search values by accessing the Keys.\n",
    "- Keys can be of any data type such as strings, numbers, or tuples.\n",
    "- Each key is followed by a colon (:) and then values.\n",
    "- Pairs are separated by ','"
   ]
  },
  {
   "cell_type": "code",
   "execution_count": 16,
   "metadata": {},
   "outputs": [
    {
     "name": "stdout",
     "output_type": "stream",
     "text": [
      "Dictionary:  {'Name': 'John Snow', 'Father': 'Nerd Strack', 'Origin': 'Winterfell', 'From': 'Game of Thrones'}\n",
      "Length of dictionary:  4\n",
      "Prints the Keys:  dict_keys(['Name', 'Father', 'Origin', 'From'])\n",
      "# Prints the values:  dict_values(['John Snow', 'Nerd Strack', 'Winterfell', 'Game of Thrones'])\n"
     ]
    }
   ],
   "source": [
    "dict = {\n",
    "    'Name' : 'John Snow',\n",
    "    'Father' : 'Nerd Strack' ,\n",
    "    'Origin' : 'Winterfell' ,\n",
    "    'From' : 'Game of Thrones'\n",
    "}\n",
    "print(\"Dictionary: \", dict) # Print the whole dictionary \n",
    "print(\"Length of dictionary: \", len(dict)) # Prints the Length\n",
    "print(\"Prints the Keys: \", dict.keys())  \n",
    "print(\"# Prints the values: \" , dict.values())"
   ]
  },
  {
   "cell_type": "code",
   "execution_count": 17,
   "metadata": {},
   "outputs": [
    {
     "name": "stdout",
     "output_type": "stream",
     "text": [
      "Game of Thrones\n",
      "{'Name': 'John Snow', 'Father': 'Nerd Strack', 'Origin': 'Winterfell', 'From': 'Game of Thrones', 'Status': 'Alive'}\n"
     ]
    }
   ],
   "source": [
    "print(dict['From']) # Find the Value of a key , helps in searching \n",
    "dict['Status'] = 'Alive' # Add an Item\n",
    "print(dict)"
   ]
  },
  {
   "cell_type": "code",
   "execution_count": 18,
   "metadata": {},
   "outputs": [
    {
     "name": "stdout",
     "output_type": "stream",
     "text": [
      "{'Name': 'John Snow', 'Father': 'Nerd Strack', 'Origin': 'Winterfell', 'From': 'Game of Thrones', 'Status': 'Dead'}\n"
     ]
    }
   ],
   "source": [
    "dict['Status'] = 'Dead' # To reassign the value of a Key\n",
    "print(dict)"
   ]
  },
  {
   "cell_type": "code",
   "execution_count": 19,
   "metadata": {},
   "outputs": [
    {
     "name": "stdout",
     "output_type": "stream",
     "text": [
      "{'Name': 'John Snow', 'Father': 'Nerd Strack', 'Origin': 'Winterfell', 'From': 'Game of Thrones'}\n"
     ]
    }
   ],
   "source": [
    "del dict['Status'] # Delete an Item\n",
    "print(dict)"
   ]
  },
  {
   "attachments": {},
   "cell_type": "markdown",
   "metadata": {},
   "source": [
    "### Functions\n",
    "\n",
    "In Python we have many built-in functions like print() , len() but we can define our own reusable functions which can perform user defined set of operations.\n",
    "\n",
    "How to define a function:\n",
    "\n",
    "- Function definition starts with def keyword and followed by function name and ()\n",
    "- Within the () we write the input parameters.\n",
    "- Followed by : and indentation , we should avoid wrong indentation to avoid code error.\n",
    "- End with an optional return statement to return the values from where the function was called , this also exists the function."
   ]
  },
  {
   "cell_type": "code",
   "execution_count": 20,
   "metadata": {},
   "outputs": [],
   "source": [
    "def my_first_func():      #define the function\n",
    "    print('Hello World')\n",
    "    return                #marks the end of the function"
   ]
  },
  {
   "cell_type": "code",
   "execution_count": 21,
   "metadata": {},
   "outputs": [
    {
     "name": "stdout",
     "output_type": "stream",
     "text": [
      "Hello World\n"
     ]
    }
   ],
   "source": [
    "# Only defining the function will not do anything or print anything\n",
    "#we need to call the function\n",
    "my_first_func()"
   ]
  },
  {
   "cell_type": "code",
   "execution_count": 22,
   "metadata": {},
   "outputs": [],
   "source": [
    "#Function with Input parameters\n",
    "def sum_of_int(a , b): # a , b are arguments or input parameters \n",
    "    sum_a_b = a+b\n",
    "    return sum_a_b"
   ]
  },
  {
   "cell_type": "code",
   "execution_count": 23,
   "metadata": {},
   "outputs": [
    {
     "name": "stdout",
     "output_type": "stream",
     "text": [
      "30\n"
     ]
    }
   ],
   "source": [
    "c = sum_of_int(10 , 20) # Call with passing the arguements \n",
    "print(c)"
   ]
  },
  {
   "attachments": {},
   "cell_type": "markdown",
   "metadata": {},
   "source": [
    "Call By Reference:\n",
    "In Python we do pass by reference that means if we change any value inside the function it will reflect in the calling function."
   ]
  },
  {
   "cell_type": "code",
   "execution_count": 24,
   "metadata": {},
   "outputs": [],
   "source": [
    "def alter_list (list_arg):\n",
    "    print('Before changing the value of the list:', list_arg)\n",
    "    list_arg[1] = 3     #change in the list element \n",
    "    print('After changing the list , inside function:', list_arg)\n",
    "    return list_arg"
   ]
  },
  {
   "cell_type": "code",
   "execution_count": 25,
   "metadata": {},
   "outputs": [
    {
     "name": "stdout",
     "output_type": "stream",
     "text": [
      "Before changing the value of the list: [10, 20, 30]\n",
      "After changing the list , inside function: [10, 3, 30]\n",
      "After changing the list , outside function: [10, 3, 30]\n"
     ]
    }
   ],
   "source": [
    "my_list = [10,20,30]\n",
    "alter_list(my_list)\n",
    "print('After changing the list , outside function:', my_list)"
   ]
  },
  {
   "cell_type": "code",
   "execution_count": 26,
   "metadata": {},
   "outputs": [
    {
     "ename": "NameError",
     "evalue": "name 'list_arg' is not defined",
     "output_type": "error",
     "traceback": [
      "\u001b[0;31m---------------------------------------------------------------------------\u001b[0m",
      "\u001b[0;31mNameError\u001b[0m                                 Traceback (most recent call last)",
      "Cell \u001b[0;32mIn[26], line 3\u001b[0m\n\u001b[1;32m      1\u001b[0m \u001b[39m# Local Variable : The scope of a variable which is defines inside the function is within that function. \u001b[39;00m\n\u001b[1;32m      2\u001b[0m \u001b[39m# Ex: list_arg is an Local variable if we try to access it outside the function it will throw error.\u001b[39;00m\n\u001b[0;32m----> 3\u001b[0m \u001b[39mprint\u001b[39m(list_arg)\n",
      "\u001b[0;31mNameError\u001b[0m: name 'list_arg' is not defined"
     ]
    }
   ],
   "source": [
    "# Local Variable : The scope of a variable which is defines inside the function is within that function. \n",
    "# Ex: list_arg is an Local variable if we try to access it outside the function it will throw error.\n",
    "print(list_arg)"
   ]
  },
  {
   "attachments": {},
   "cell_type": "markdown",
   "metadata": {},
   "source": [
    "##### Zip function: \n",
    "\n",
    "Takes equal length Lists as inputs and returns a list of tuples"
   ]
  },
  {
   "cell_type": "code",
   "execution_count": 27,
   "metadata": {},
   "outputs": [
    {
     "name": "stdout",
     "output_type": "stream",
     "text": [
      "<class 'zip'>\n",
      "Tom Hank\n",
      "Ricky Pointing\n"
     ]
    }
   ],
   "source": [
    "f_name = ['Tom' , 'Ricky']\n",
    "l_name = ['Hank' , 'Pointing']\n",
    "name = zip(f_name,l_name)\n",
    "print(type(name)) # It's a zip type object\n",
    "for f , l in name:\n",
    "    print(f +' ' + l) # Displaying the Name with Concatenation"
   ]
  },
  {
   "attachments": {},
   "cell_type": "markdown",
   "metadata": {},
   "source": [
    "### What is Class ?\n",
    "\n",
    "It's an user defined logical grouping of methods and attributes , it's reusable component. You define classe once access its attributed and methods multiple times with dot notation.\n",
    "\n",
    "Here method is similar to Python functions and attributes which is similar to Python variables.\n",
    "\n",
    "Say for an example for Organization application , we have an Class called Employee. Each employee has it's attributes like first name, last name , age , role.\n",
    "\n",
    "Class will act as an blueprint to add emplyee , by creating an instance of the class we can define each employees.\n",
    "\n",
    "Now let's define the class."
   ]
  },
  {
   "cell_type": "code",
   "execution_count": 1,
   "metadata": {},
   "outputs": [
    {
     "name": "stdout",
     "output_type": "stream",
     "text": [
      "<__main__.Employee object at 0x7f725bf8da20>\n",
      "<__main__.Employee object at 0x7f725c036fb0>\n"
     ]
    }
   ],
   "source": [
    "class Employee:\n",
    "    pass\n",
    "\n",
    "emp1 = Employee()\n",
    "emp2 = Employee()\n",
    "\n",
    "print(emp1)\n",
    "print(emp2)"
   ]
  },
  {
   "cell_type": "code",
   "execution_count": 2,
   "metadata": {},
   "outputs": [],
   "source": [
    "emp1.first_name = 'Aritra'\n",
    "emp1.last_name = 'Sen'\n",
    "emp1.age = 22\n",
    "\n",
    "emp2.first_name = 'Sachin'\n",
    "emp2.last_name = 'Tendulkar'\n",
    "emp2.age = 40"
   ]
  },
  {
   "cell_type": "code",
   "execution_count": 3,
   "metadata": {},
   "outputs": [
    {
     "name": "stdout",
     "output_type": "stream",
     "text": [
      "Aritra\n"
     ]
    }
   ],
   "source": [
    "print(emp1.first_name)"
   ]
  },
  {
   "cell_type": "code",
   "execution_count": 4,
   "metadata": {},
   "outputs": [
    {
     "name": "stdout",
     "output_type": "stream",
     "text": [
      "Sachin\n"
     ]
    }
   ],
   "source": [
    "print(emp2.first_name)"
   ]
  },
  {
   "cell_type": "code",
   "execution_count": 5,
   "metadata": {},
   "outputs": [],
   "source": [
    "class Employee:\n",
    "    def __init__(self,f_name,l_name,age,role): #Arguements of the class\n",
    "        self.first_name = f_name               #Attributes or variables of the class \n",
    "        self.last_name = l_name\n",
    "        self.age = age\n",
    "        self.role = role\n",
    "        self.full_name = f_name + ' ' + l_name"
   ]
  },
  {
   "attachments": {},
   "cell_type": "markdown",
   "metadata": {},
   "source": [
    "'init ': is initializer method(or Constructor).\n",
    "\n",
    "By default the first parameter of a method inside class - is an instance of the class, by convention we define that instance as 'self'(though you can call it anything you want)\n",
    "\n",
    "init will run everytime , when we create an instance of the class.\n",
    "\n",
    "Now as we have defined the class let's create an instance of the class , which instance variable."
   ]
  },
  {
   "cell_type": "code",
   "execution_count": 6,
   "metadata": {},
   "outputs": [
    {
     "name": "stdout",
     "output_type": "stream",
     "text": [
      "<__main__.Employee object at 0x7f725bf8e560>\n",
      "John Snow\n"
     ]
    }
   ],
   "source": [
    "employee_1 = Employee('John', 'Snow' , '40' ,'Engineer') #Instance is passed Automatically , don't need pass 'self'\n",
    "print(employee_1) # Type is an object of the Employee class\n",
    "print(employee_1.full_name) # using the instance we are accesing the class attributes"
   ]
  },
  {
   "cell_type": "code",
   "execution_count": 7,
   "metadata": {},
   "outputs": [
    {
     "name": "stdout",
     "output_type": "stream",
     "text": [
      "40\n",
      "42\n"
     ]
    }
   ],
   "source": [
    "employee_2 = Employee('Sachin','Tendular',40,'Batsman')\n",
    "print(employee_2.age)\n",
    "employee_2.age = 42 #Using an instance of that class we can update the attributes of the class\n",
    "print(employee_2.age)"
   ]
  },
  {
   "cell_type": "code",
   "execution_count": 8,
   "metadata": {},
   "outputs": [],
   "source": [
    "# Class methods \n",
    "\n",
    "class Employee:\n",
    "    def __init__(self,f_name,l_name,age,role): #Arguements of the class\n",
    "        self.first_name = f_name             #attributes or variables of the class \n",
    "        self.last_name = l_name\n",
    "        self.age = age\n",
    "        self.role = role\n",
    "        self.full_name = f_name + ' ' + l_name\n",
    "    def Email_Id(self): # Every method inside class takes instance of that class as arguements\n",
    "        return self.first_name +'_' + self.last_name + '@denken.com' # Class methods "
   ]
  },
  {
   "cell_type": "code",
   "execution_count": 9,
   "metadata": {},
   "outputs": [
    {
     "name": "stdout",
     "output_type": "stream",
     "text": [
      "Rahul_Dravid@denken.com\n",
      "<bound method Employee.Email_Id of <__main__.Employee object at 0x7f725bf8e4a0>>\n"
     ]
    }
   ],
   "source": [
    "employee_3 = Employee('Rahul','Dravid',40,'Batsman')\n",
    "print(employee_3.Email_Id()) # You need parentheses to call an method of the class \n",
    "print(employee_3.Email_Id) # Without paranthesis, you don't get the return value of the method"
   ]
  },
  {
   "attachments": {},
   "cell_type": "markdown",
   "metadata": {},
   "source": [
    "##### Class Variable: \n",
    "- In Previous examples we saw instance variables like first_name,last_name these instance variables always has unique values. We create an Class variable when we need a variable with constant value and which can be shared accross different methods of the class. Using Class variables we can easily update the value of the variable. Class variables can be accessed via Class name or by instance object of that class. We declare the class variable at top of the class defination."
   ]
  },
  {
   "cell_type": "code",
   "execution_count": 10,
   "metadata": {},
   "outputs": [],
   "source": [
    "# Class Variables \n",
    "\n",
    "class Employee:\n",
    "    country = 'India'  #Country is an class variable\n",
    "    def __init__(self,f_name,l_name,age,role): #Arguements of the class\n",
    "        self.first_name = f_name             #attributes or variables of the class \n",
    "        self.last_name = l_name\n",
    "        self.age = age\n",
    "        self.role = role\n",
    "        self.full_name = f_name + ' ' + l_name\n",
    "    def Email_Id(self): # Every method inside class takes instance of that class as arguements\n",
    "        return self.first_name +'_' + self.last_name + '@denken'"
   ]
  },
  {
   "cell_type": "code",
   "execution_count": 11,
   "metadata": {},
   "outputs": [
    {
     "name": "stdout",
     "output_type": "stream",
     "text": [
      "India\n",
      "India\n",
      "England\n"
     ]
    }
   ],
   "source": [
    "print(Employee.country) #Accessed through class name\n",
    "employee_4 = Employee('Sourav','Ganguly',40,'Batsman')\n",
    "print(employee_4.country) #Accessed through class instance object\n",
    "Employee.country = 'England' # Updating the value of the class variables\n",
    "print(Employee.country)"
   ]
  },
  {
   "attachments": {},
   "cell_type": "markdown",
   "metadata": {},
   "source": [
    "##### Class Inheritence"
   ]
  },
  {
   "cell_type": "code",
   "execution_count": 12,
   "metadata": {},
   "outputs": [],
   "source": [
    "class devloper(Employee):\n",
    "    def __init__(self,f_name,l_name,age,role,expertise):\n",
    "        super().__init__(f_name,l_name,age,role)\n",
    "        self.expertise = expertise"
   ]
  },
  {
   "cell_type": "code",
   "execution_count": 13,
   "metadata": {},
   "outputs": [],
   "source": [
    "dev1 = devloper('Sachin','Tendulkar',40,'Batsman','python')"
   ]
  },
  {
   "cell_type": "code",
   "execution_count": 14,
   "metadata": {},
   "outputs": [
    {
     "data": {
      "text/plain": [
       "('Sachin Tendulkar', 'Batsman', 'python')"
      ]
     },
     "execution_count": 14,
     "metadata": {},
     "output_type": "execute_result"
    }
   ],
   "source": [
    "dev1.full_name , dev1.role , dev1.expertise"
   ]
  }
 ],
 "metadata": {
  "kernelspec": {
   "display_name": "Python 3",
   "language": "python",
   "name": "python3"
  },
  "language_info": {
   "codemirror_mode": {
    "name": "ipython",
    "version": 3
   },
   "file_extension": ".py",
   "mimetype": "text/x-python",
   "name": "python",
   "nbconvert_exporter": "python",
   "pygments_lexer": "ipython3",
   "version": "3.10.4"
  },
  "orig_nbformat": 4,
  "vscode": {
   "interpreter": {
    "hash": "3ad933181bd8a04b432d3370b9dc3b0662ad032c4dfaa4e4f1596c548f763858"
   }
  }
 },
 "nbformat": 4,
 "nbformat_minor": 2
}
