{
 "cells": [
  {
   "attachments": {},
   "cell_type": "markdown",
   "metadata": {},
   "source": [
    "Topics to be covered:\n",
    "\n",
    "1. Mathematical Operations\n",
    "2. Variables\n",
    "3. Functions\n",
    "4. Object Oriented Programming in Python"
   ]
  },
  {
   "attachments": {},
   "cell_type": "markdown",
   "metadata": {},
   "source": [
    "### Mathematical Operations in Python"
   ]
  },
  {
   "cell_type": "code",
   "execution_count": 1,
   "metadata": {},
   "outputs": [
    {
     "name": "stdout",
     "output_type": "stream",
     "text": [
      "9\n"
     ]
    }
   ],
   "source": [
    "print (3+6) #Sum"
   ]
  },
  {
   "cell_type": "code",
   "execution_count": 2,
   "metadata": {},
   "outputs": [
    {
     "name": "stdout",
     "output_type": "stream",
     "text": [
      "-3\n"
     ]
    }
   ],
   "source": [
    "print (3-6) #Minus"
   ]
  },
  {
   "cell_type": "code",
   "execution_count": 3,
   "metadata": {},
   "outputs": [
    {
     "name": "stdout",
     "output_type": "stream",
     "text": [
      "18\n"
     ]
    }
   ],
   "source": [
    "print(3*6) #Multiplication"
   ]
  },
  {
   "cell_type": "code",
   "execution_count": 4,
   "metadata": {},
   "outputs": [
    {
     "name": "stdout",
     "output_type": "stream",
     "text": [
      "2.0\n"
     ]
    }
   ],
   "source": [
    "print(6/3) #Division"
   ]
  },
  {
   "cell_type": "code",
   "execution_count": 5,
   "metadata": {},
   "outputs": [
    {
     "name": "stdout",
     "output_type": "stream",
     "text": [
      "2\n"
     ]
    }
   ],
   "source": [
    "print(29%3) #Modular division"
   ]
  },
  {
   "cell_type": "code",
   "execution_count": 6,
   "metadata": {},
   "outputs": [
    {
     "name": "stdout",
     "output_type": "stream",
     "text": [
      "4\n"
     ]
    }
   ],
   "source": [
    "print(2**2) #power"
   ]
  },
  {
   "cell_type": "code",
   "execution_count": 7,
   "metadata": {},
   "outputs": [
    {
     "name": "stdout",
     "output_type": "stream",
     "text": [
      "5\n"
     ]
    }
   ],
   "source": [
    "print(16//3) # Floor division and result is quotient and results after decimal is removed"
   ]
  },
  {
   "attachments": {},
   "cell_type": "markdown",
   "metadata": {},
   "source": [
    "### Variables\n",
    "\n",
    "Python is not strictly typed language , so you don’t need declare the type of the variable and then use.You can straightway assign the values of variables and python will understand the type of the variables. Below are types of variables –\n",
    "\n",
    "- Numbers\n",
    "- String\n",
    "- List\n",
    "- Tuple\n",
    "- Dictionary"
   ]
  },
  {
   "attachments": {},
   "cell_type": "markdown",
   "metadata": {},
   "source": [
    "#####  Number"
   ]
  },
  {
   "cell_type": "code",
   "execution_count": 10,
   "metadata": {},
   "outputs": [
    {
     "name": "stdout",
     "output_type": "stream",
     "text": [
      "Value of a : 100\n",
      "Value of b : 100.1\n",
      "Value of c and d : 500 500\n"
     ]
    }
   ],
   "source": [
    "a = 100  #Integer Variable \n",
    "b = 100.10 #Floats\n",
    "print('Value of a :', a)\n",
    "print ('Value of b :', b)\n",
    "c = d = 500 # Multiple assignments in a single line\n",
    "print('Value of c and d :',c,d)"
   ]
  },
  {
   "attachments": {},
   "cell_type": "markdown",
   "metadata": {},
   "source": [
    "#### String\n",
    "-  ' ', '' \" , \"\"\" \"\"\" also can be used in string assignment , # \"\"\" \"\"\" is used for multiple lines assignment/escape for special charecters"
   ]
  },
  {
   "cell_type": "code",
   "execution_count": 12,
   "metadata": {},
   "outputs": [
    {
     "name": "stdout",
     "output_type": "stream",
     "text": [
      "First element : D\n",
      "Last element :  n\n",
      "2nd element to 3rd element: enk\n",
      "From first element to the last element:  enken\n",
      "String concetanation: Denken is a blog\n",
      "Print twice:  DenkenDenken\n"
     ]
    }
   ],
   "source": [
    "e = \"Denken\" \n",
    "print (\"First element :\" , e[0]) #  To access the first element , Python Indexing starts at 0 \n",
    "print(\"Last element : \", e[-1]) # To access the last element in the String'\n",
    "print('2nd element to 3rd element:',e[1:4]) # To access from 2nd element to 3rd element , 4th element is excluded\n",
    "print(\"From first element to the last element: \",e[1:]) #To access from 1st element to end\n",
    "print(\"String concetanation:\",e + \" is a blog\") # Concatenation\n",
    "print(\"Print twice: \" , e * 2) # Prints two times"
   ]
  },
  {
   "attachments": {},
   "cell_type": "markdown",
   "metadata": {},
   "source": [
    "#### List \n",
    "- Members of the List , need not be of the same type. Can be written as comma separated within square brackets.\n",
    "- Lists are mutable , that means you can add or delete items from Lists."
   ]
  },
  {
   "cell_type": "code",
   "execution_count": 13,
   "metadata": {},
   "outputs": [
    {
     "name": "stdout",
     "output_type": "stream",
     "text": [
      "<class 'list'>\n",
      "3\n"
     ]
    }
   ],
   "source": [
    "my_list = [] # empty list\n",
    "\n",
    "my_list = [1 , 2 , 3] # List of Integeres\n",
    "\n",
    "print(type(my_list)) # To check the datatype of any variable\n",
    "\n",
    "print(len(my_list)) # To Check the length of the list "
   ]
  },
  {
   "cell_type": "code",
   "execution_count": 15,
   "metadata": {},
   "outputs": [
    {
     "name": "stdout",
     "output_type": "stream",
     "text": [
      "['Hello', 'Denken', 3]\n"
     ]
    }
   ],
   "source": [
    "my_list = ['Hello' , 'Denken' , 3] # List of Different data types\n",
    "\n",
    "print(my_list)"
   ]
  },
  {
   "cell_type": "code",
   "execution_count": 17,
   "metadata": {},
   "outputs": [
    {
     "name": "stdout",
     "output_type": "stream",
     "text": [
      "[['Hello', 'Denken', 3], [1, 2, 3]]\n",
      "Length of the list:  2\n",
      "Access the First List of Lists :  ['Hello', 'Denken', 3]\n",
      "Access the 2nd List of Lists : [1, 2, 3]\n",
      "Access the First element of the first List: Hello\n"
     ]
    }
   ],
   "source": [
    "my_list = [['Hello' , 'Denken' , 3] , [1 , 2, 3]] # List of Lists\n",
    "\n",
    "print(my_list) #Prints List of Lists\n",
    "\n",
    "print(\"Length of the list: \", len(my_list)) # Len function returns the length , Returns 2 \n",
    "\n",
    "print(\"Access the First List of Lists : \",my_list[0]) \n",
    "\n",
    "print(\"Access the 2nd List of Lists :\",my_list[1])  \n",
    "\n",
    "print(\"Access the First element of the first List:\",my_list[0][0])"
   ]
  },
  {
   "cell_type": "code",
   "execution_count": 19,
   "metadata": {},
   "outputs": [
    {
     "name": "stdout",
     "output_type": "stream",
     "text": [
      "Original List : ['a', 'b', 'c']\n",
      "After adding an element: ['a', 'b', 'c', 'd']\n",
      "After removing an element: ['a', 'b', 'c']\n",
      "After altering the first element in the list : ['aa', 'b', 'c']\n"
     ]
    }
   ],
   "source": [
    "# lists are mutable\n",
    "\n",
    "a = ['a','b','c']\n",
    "\n",
    "print(\"Original List :\", a)\n",
    "\n",
    "a.append('d') # Adding element to the list\n",
    "print(\"After adding an element:\",a)\n",
    "\n",
    "a.remove('d') # Removes an element from the list\n",
    "print(\"After removing an element:\",a)\n",
    "\n",
    "a[0] = 'aa' # Altering the first element of the list\n",
    "print(\"After altering the first element in the list :\",a)"
   ]
  },
  {
   "attachments": {},
   "cell_type": "markdown",
   "metadata": {},
   "source": [
    "#### Tuples\n",
    "- Can consume different data types , \n",
    "- Created with parentheses () \n",
    "- Unlinke Lists , Tuples are immutable . You can not modify Tuples once created"
   ]
  },
  {
   "cell_type": "code",
   "execution_count": 22,
   "metadata": {},
   "outputs": [
    {
     "name": "stdout",
     "output_type": "stream",
     "text": [
      "Tuple:  ('a', 'b', 1, 3)\n",
      "Type of the variable:  <class 'tuple'>\n",
      "a\n"
     ]
    }
   ],
   "source": [
    "tup = ('a','b',1,3) #Accepts different data types\n",
    "print(\"Tuple: \",tup)\n",
    "print('Type of the variable: ', type(tup))\n",
    "print(tup[0]) #List like same slicing and dicing you can perform"
   ]
  },
  {
   "cell_type": "code",
   "execution_count": 23,
   "metadata": {},
   "outputs": [
    {
     "ename": "TypeError",
     "evalue": "'tuple' object does not support item assignment",
     "output_type": "error",
     "traceback": [
      "\u001b[0;31m---------------------------------------------------------------------------\u001b[0m",
      "\u001b[0;31mTypeError\u001b[0m                                 Traceback (most recent call last)",
      "Cell \u001b[0;32mIn[23], line 1\u001b[0m\n\u001b[0;32m----> 1\u001b[0m tup[\u001b[39m0\u001b[39;49m] \u001b[39m=\u001b[39m \u001b[39m'\u001b[39m\u001b[39maa\u001b[39m\u001b[39m'\u001b[39m \u001b[39m# Tuples are immutable , will throw error\u001b[39;00m\n",
      "\u001b[0;31mTypeError\u001b[0m: 'tuple' object does not support item assignment"
     ]
    }
   ],
   "source": [
    "tup[0] = 'aa' # Tuples are immutable , will throw error"
   ]
  },
  {
   "attachments": {},
   "cell_type": "markdown",
   "metadata": {},
   "source": [
    "#### Dictionary \n",
    "- Dictionary can be created with { } , it has key value pairs.\n",
    "- Keys has to be unique. It's like you Search values by accessing the Keys.\n",
    "- Keys can be of any data type such as strings, numbers, or tuples.\n",
    "- Each key is followed by a colon (:) and then values.\n",
    "- Pairs are separated by ','"
   ]
  },
  {
   "cell_type": "code",
   "execution_count": 25,
   "metadata": {},
   "outputs": [
    {
     "name": "stdout",
     "output_type": "stream",
     "text": [
      "Dictionary:  {'Name': 'John Snow', 'Father': 'Nerd Strack', 'Origin': 'Winterfell', 'From': 'Game of Thrones'}\n",
      "Length of dictionary:  4\n",
      "Prints the Keys:  dict_keys(['Name', 'Father', 'Origin', 'From'])\n",
      "# Prints the values:  dict_values(['John Snow', 'Nerd Strack', 'Winterfell', 'Game of Thrones'])\n"
     ]
    }
   ],
   "source": [
    "dict = {\n",
    "    'Name' : 'John Snow',\n",
    "    'Father' : 'Nerd Strack' ,\n",
    "    'Origin' : 'Winterfell' ,\n",
    "    'From' : 'Game of Thrones'\n",
    "}\n",
    "print(\"Dictionary: \", dict) # Print the whole dictionary \n",
    "print(\"Length of dictionary: \", len(dict)) # Prints the Length\n",
    "print(\"Prints the Keys: \", dict.keys())  \n",
    "print(\"# Prints the values: \" , dict.values())"
   ]
  },
  {
   "cell_type": "code",
   "execution_count": 26,
   "metadata": {},
   "outputs": [
    {
     "name": "stdout",
     "output_type": "stream",
     "text": [
      "Game of Thrones\n",
      "{'Name': 'John Snow', 'Father': 'Nerd Strack', 'Origin': 'Winterfell', 'From': 'Game of Thrones', 'Status': 'Alive'}\n"
     ]
    }
   ],
   "source": [
    "print(dict['From']) # Find the Value of a key , helps in searching \n",
    "dict['Status'] = 'Alive' # Add an Item\n",
    "print(dict)"
   ]
  },
  {
   "cell_type": "code",
   "execution_count": 27,
   "metadata": {},
   "outputs": [
    {
     "name": "stdout",
     "output_type": "stream",
     "text": [
      "{'Name': 'John Snow', 'Father': 'Nerd Strack', 'Origin': 'Winterfell', 'From': 'Game of Thrones', 'Status': 'Dead'}\n"
     ]
    }
   ],
   "source": [
    "dict['Status'] = 'Dead' # To reassign the value of a Key\n",
    "print(dict)"
   ]
  },
  {
   "cell_type": "code",
   "execution_count": 28,
   "metadata": {},
   "outputs": [
    {
     "name": "stdout",
     "output_type": "stream",
     "text": [
      "{'Name': 'John Snow', 'Father': 'Nerd Strack', 'Origin': 'Winterfell', 'From': 'Game of Thrones'}\n"
     ]
    }
   ],
   "source": [
    "del dict['Status'] # Delete an Item\n",
    "print(dict)"
   ]
  },
  {
   "attachments": {},
   "cell_type": "markdown",
   "metadata": {},
   "source": [
    "### Functions\n",
    "\n",
    "In Python we have many built-in functions like print() , len() but we can define our own reusable functions which can perform user defined set of operations.\n",
    "\n",
    "How to define a function:\n",
    "\n",
    "- Function definition starts with def keyword and followed by function name and ()\n",
    "- Within the () we write the input parameters.\n",
    "- Followed by : and indentation , we should avoid wrong indentation to avoid code error.\n",
    "- End with an optional return statement to return the values from where the function was called , this also exists the function."
   ]
  },
  {
   "cell_type": "code",
   "execution_count": 30,
   "metadata": {},
   "outputs": [],
   "source": [
    "def my_first_func():      #define the function\n",
    "    print('Hello World')\n",
    "    return                #marks the end of the function"
   ]
  },
  {
   "cell_type": "code",
   "execution_count": 31,
   "metadata": {},
   "outputs": [
    {
     "name": "stdout",
     "output_type": "stream",
     "text": [
      "Hello World\n"
     ]
    }
   ],
   "source": [
    "# Only defining the function will not do anything or print anything\n",
    "#we need to call the function\n",
    "my_first_func()"
   ]
  },
  {
   "cell_type": "code",
   "execution_count": 32,
   "metadata": {},
   "outputs": [],
   "source": [
    "#Function with Input parameters\n",
    "def sum_of_int(a , b): # a , b are arguments or input parameters \n",
    "    sum_a_b = a+b\n",
    "    return sum_a_b"
   ]
  },
  {
   "cell_type": "code",
   "execution_count": 33,
   "metadata": {},
   "outputs": [
    {
     "name": "stdout",
     "output_type": "stream",
     "text": [
      "30\n"
     ]
    }
   ],
   "source": [
    "c = sum_of_int(10 , 20) # Call with passing the arguements \n",
    "print(c)"
   ]
  },
  {
   "attachments": {},
   "cell_type": "markdown",
   "metadata": {},
   "source": [
    "Call By Reference:\n",
    "In Python we do pass by reference that means if we change any value inside the function it will reflect in the calling function."
   ]
  },
  {
   "cell_type": "code",
   "execution_count": 34,
   "metadata": {},
   "outputs": [],
   "source": [
    "def alter_list (list_arg):\n",
    "    print('Before changing the value of the list:', list_arg)\n",
    "    list_arg[1] = 3     #change in the list element \n",
    "    print('After changing the list , inside function:', list_arg)\n",
    "    return list_arg"
   ]
  },
  {
   "cell_type": "code",
   "execution_count": 35,
   "metadata": {},
   "outputs": [
    {
     "name": "stdout",
     "output_type": "stream",
     "text": [
      "Before changing the value of the list: [10, 20, 30]\n",
      "After changing the list , inside function: [10, 3, 30]\n",
      "After changing the list , outside function: [10, 3, 30]\n"
     ]
    }
   ],
   "source": [
    "my_list = [10,20,30]\n",
    "alter_list(my_list)\n",
    "print('After changing the list , outside function:', my_list)"
   ]
  },
  {
   "cell_type": "code",
   "execution_count": 36,
   "metadata": {},
   "outputs": [
    {
     "ename": "NameError",
     "evalue": "name 'list_arg' is not defined",
     "output_type": "error",
     "traceback": [
      "\u001b[0;31m---------------------------------------------------------------------------\u001b[0m",
      "\u001b[0;31mNameError\u001b[0m                                 Traceback (most recent call last)",
      "Cell \u001b[0;32mIn[36], line 3\u001b[0m\n\u001b[1;32m      1\u001b[0m \u001b[39m# Local Variable : The scope of a variable which is defines inside the function is within that function. \u001b[39;00m\n\u001b[1;32m      2\u001b[0m \u001b[39m# Ex: list_arg is an Local variable if we try to access it outside the function it will throw error.\u001b[39;00m\n\u001b[0;32m----> 3\u001b[0m \u001b[39mprint\u001b[39m(list_arg)\n",
      "\u001b[0;31mNameError\u001b[0m: name 'list_arg' is not defined"
     ]
    }
   ],
   "source": [
    "# Local Variable : The scope of a variable which is defines inside the function is within that function. \n",
    "# Ex: list_arg is an Local variable if we try to access it outside the function it will throw error.\n",
    "print(list_arg)"
   ]
  },
  {
   "attachments": {},
   "cell_type": "markdown",
   "metadata": {},
   "source": [
    "#### Zip function: \n",
    "\n",
    "Takes equal length Lists as inputs and returns a list of tuples"
   ]
  },
  {
   "cell_type": "code",
   "execution_count": 37,
   "metadata": {},
   "outputs": [
    {
     "name": "stdout",
     "output_type": "stream",
     "text": [
      "<class 'zip'>\n",
      "Tom Hank\n",
      "Ricky Pointing\n"
     ]
    }
   ],
   "source": [
    "f_name = ['Tom' , 'Ricky']\n",
    "l_name = ['Hank' , 'Pointing']\n",
    "name = zip(f_name,l_name)\n",
    "print(type(name)) # It's a zip type object\n",
    "for f , l in name:\n",
    "    print(f +' ' + l) # Displaying the Name with Concatenation"
   ]
  },
  {
   "cell_type": "code",
   "execution_count": null,
   "metadata": {},
   "outputs": [],
   "source": []
  }
 ],
 "metadata": {
  "kernelspec": {
   "display_name": "Python 3 (ipykernel)",
   "language": "python",
   "name": "python3"
  },
  "language_info": {
   "codemirror_mode": {
    "name": "ipython",
    "version": 3
   },
   "file_extension": ".py",
   "mimetype": "text/x-python",
   "name": "python",
   "nbconvert_exporter": "python",
   "pygments_lexer": "ipython3",
   "version": "3.10.4"
  },
  "orig_nbformat": 4
 },
 "nbformat": 4,
 "nbformat_minor": 2
}
